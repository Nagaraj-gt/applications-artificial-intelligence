{
  "nbformat": 4,
  "nbformat_minor": 0,
  "metadata": {
    "colab": {
      "provenance": [],
      "authorship_tag": "ABX9TyOKti2r9iAJbD1hzPuM4EQV",
      "include_colab_link": true
    },
    "kernelspec": {
      "name": "python3",
      "display_name": "Python 3"
    },
    "language_info": {
      "name": "python"
    }
  },
  "cells": [
    {
      "cell_type": "markdown",
      "metadata": {
        "id": "view-in-github",
        "colab_type": "text"
      },
      "source": [
        "<a href=\"https://colab.research.google.com/github/Nagaraj-gt/applications-artificial-intelligence/blob/main/q1.ipynb\" target=\"_parent\"><img src=\"https://colab.research.google.com/assets/colab-badge.svg\" alt=\"Open In Colab\"/></a>"
      ]
    },
    {
      "cell_type": "markdown",
      "source": [
        "# PART B (2) : Image Classification\n",
        "\n",
        "***Using pretrained resnet18, densenet121, vgg19 models on this dataset, train a 15-class \n",
        "classification model and report per-class classification accuracy in terms of precision and \n",
        "recall. Submit q1.py. [10 marks]***\n",
        "\n",
        "\n",
        "\n",
        "**TEAM MEMBERS:**\n",
        "\n",
        " Nagaraj G T\t 12120095\n",
        "\n",
        " Yashaswi Singh\t 12120064\n",
        "\n",
        " Madhab Chakraborty\t 12120045\n",
        "\n",
        " Rama Gangadhar Durvasula\t 12120087\n",
        "\n",
        " Parmarth matta\t 12120077\n",
        "\n"
      ],
      "metadata": {
        "id": "JeWM8DJ0lcyR"
      }
    },
    {
      "cell_type": "code",
      "execution_count": null,
      "metadata": {
        "id": "T3xlOgIAkeS5"
      },
      "outputs": [],
      "source": []
    }
  ]
}